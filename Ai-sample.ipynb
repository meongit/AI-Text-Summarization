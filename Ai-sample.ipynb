{
  "nbformat": 4,
  "nbformat_minor": 0,
  "metadata": {
    "colab": {
      "provenance": []
    },
    "kernelspec": {
      "name": "python3",
      "display_name": "Python 3"
    },
    "language_info": {
      "name": "python"
    }
  },
  "cells": [
    {
      "cell_type": "code",
      "execution_count": null,
      "metadata": {
        "id": "SDtmN4a_T5cX"
      },
      "outputs": [],
      "source": [
        "!pip install \"shapely<2.0.0\"\n",
        "!pip install google-cloud-aiplatform"
      ]
    },
    {
      "cell_type": "code",
      "source": [
        "from google.colab import auth as google_auth\n",
        "google_auth.authenticate_user()\n",
        "\n",
        "import json\n",
        "import vertexai\n",
        "from vertexai.preview.language_models import TextGenerationModel"
      ],
      "metadata": {
        "id": "N-jFSIEyPpG9"
      },
      "execution_count": 1,
      "outputs": []
    },
    {
      "cell_type": "code",
      "source": [
        "with open('/content/drive/MyDrive/Colab Notebooks/AI-articles.json') as user_file:\n",
        "  file_contents = user_file.read()\n",
        "parsed_json = json.loads(file_contents)"
      ],
      "metadata": {
        "id": "VGoJ1NiNPm5n"
      },
      "execution_count": null,
      "outputs": []
    },
    {
      "cell_type": "code",
      "source": [
        "def ai_literary_summary(\n",
        "    project_id: str,\n",
        "    model_name: str,\n",
        "    temperature: float,\n",
        "    max_decode_steps: int,\n",
        "    top_p: float,\n",
        "    top_k: int,\n",
        "    content: str,\n",
        "    location: str = \"us-central1\",\n",
        "    tuned_model_name: str = \"\",\n",
        "    ) :\n",
        "    vertexai.init(project=project_id, location=location)\n",
        "    model = TextGenerationModel.from_pretrained(model_name)\n",
        "    if tuned_model_name:\n",
        "      model = model.get_tuned_model(tuned_model_name)\n",
        "    response = model.predict(\n",
        "        content,\n",
        "        temperature=temperature,\n",
        "        max_output_tokens=max_decode_steps,\n",
        "        top_k=top_k,\n",
        "        top_p=top_p,)\n",
        "    return response.text"
      ],
      "metadata": {
        "id": "A92g_ZXEVHhk"
      },
      "execution_count": 4,
      "outputs": []
    },
    {
      "cell_type": "code",
      "source": [
        "j=0;\n",
        "articleList = []\n",
        "for i in parsed_json:\n",
        "  if (parsed_json[j]['category']=='science'):\n",
        "    article = \"\"\"Give me two line summary of following text: \"\"\" + parsed_json[j]['text']\n",
        "    articleList.append('category: ' + parsed_json[j]['category'])\n",
        "    articleList.append('time_2_read: ' + parsed_json[j]['time_2_read'])\n",
        "    articleList.append('summary: ' + ai_literary_summary(\"my-proj-id\", \"text-bison@001\", 0.2, 1024, 0.8, 40, article, \"us-central1\"))\n",
        "  j = j+1;"
      ],
      "metadata": {
        "id": "TddmFWVKZGCl"
      },
      "execution_count": 37,
      "outputs": []
    },
    {
      "cell_type": "code",
      "source": [
        "for i in articleList:\n",
        "  print(i)"
      ],
      "metadata": {
        "colab": {
          "base_uri": "https://localhost:8080/"
        },
        "id": "ZNHP8g3vVCr3",
        "outputId": "2af3c557-3375-4cf6-be6f-57e31f4cf2df"
      },
      "execution_count": 39,
      "outputs": [
        {
          "output_type": "stream",
          "name": "stdout",
          "text": [
            "category: science\n",
            "time_2_read: 2:00\n",
            "summary: Science is a boon to mankind as it has given us many comforts and life-saving medicines. However, it has also been misused to create destructive weapons like nuclear bombs.\n"
          ]
        }
      ]
    },
    {
      "cell_type": "code",
      "source": [
        "user_file.close()"
      ],
      "metadata": {
        "id": "15KeYfMiVMLV"
      },
      "execution_count": 33,
      "outputs": []
    }
  ]
}